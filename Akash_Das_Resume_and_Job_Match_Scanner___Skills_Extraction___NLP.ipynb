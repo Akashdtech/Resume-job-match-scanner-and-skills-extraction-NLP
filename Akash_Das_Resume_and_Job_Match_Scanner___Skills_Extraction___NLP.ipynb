{
  "nbformat": 4,
  "nbformat_minor": 0,
  "metadata": {
    "colab": {
      "provenance": []
    },
    "kernelspec": {
      "name": "python3",
      "display_name": "Python 3"
    },
    "language_info": {
      "name": "python"
    }
  },
  "cells": [
    {
      "cell_type": "code",
      "execution_count": 15,
      "metadata": {
        "colab": {
          "base_uri": "https://localhost:8080/"
        },
        "collapsed": true,
        "id": "i5XXCm13fv7c",
        "outputId": "c27a6d82-3c7d-4daf-cf24-af16744d4760"
      },
      "outputs": [
        {
          "output_type": "stream",
          "name": "stdout",
          "text": [
            "Requirement already satisfied: docx2txt in /usr/local/lib/python3.11/dist-packages (0.8)\n"
          ]
        }
      ],
      "source": [
        "!pip install docx2txt"
      ]
    },
    {
      "cell_type": "code",
      "source": [
        "import docx2txt\n",
        "from sklearn.feature_extraction.text import CountVectorizer\n",
        "from sklearn.metrics.pairwise import cosine_similarity"
      ],
      "metadata": {
        "id": "_oOfwE9zgDje"
      },
      "execution_count": 16,
      "outputs": []
    },
    {
      "cell_type": "code",
      "source": [
        "my_resume = docx2txt.process('/content/Curriculum Vitae.docx')\n",
        "\n",
        "print(my_resume)"
      ],
      "metadata": {
        "id": "BJry-dwr1k8Z"
      },
      "execution_count": null,
      "outputs": []
    },
    {
      "cell_type": "code",
      "source": [
        "job_requirements = docx2txt.process('/content/Job Requirements.docx')\n",
        "\n",
        "print(job_requirements)"
      ],
      "metadata": {
        "colab": {
          "base_uri": "https://localhost:8080/"
        },
        "collapsed": true,
        "id": "gh3CwW0ViMbF",
        "outputId": "f64499d1-ca41-41eb-a87d-b7ef5ec97ec3"
      },
      "execution_count": 18,
      "outputs": [
        {
          "output_type": "stream",
          "name": "stdout",
          "text": [
            "Qualifications:\n",
            "\n",
            "Authorization to work in Germany/EU is required.\n",
            "\n",
            "A Master’s or PhD in computer science, data science, engineering, mathematics, or a related field.\n",
            "\n",
            "3+ years of experience applying machine learning techniques, including experience with Large Language Models, in real-world projects.\n",
            "\n",
            "Expertise in machine learning, artificial intelligence, and natural language processing, with a proven track record of implementing and fine-tuning LLMs (e.g., GPT, BERT, or similar models) in production settings.\n",
            "\n",
            "Proficiency in programming languages such as Python or C/C++, with experience in frameworks like PyTorch, TensorFlow, or similar tools.\n",
            "\n",
            "Strong understanding of object-oriented programming, clean coding practices, and version control systems (e.g., Git).\n",
            "\n",
            "Experience with cloud platforms (AWS, Azure, GCP), large-scale data processing systems, or streaming architectures is a plus.\n",
            "\n",
            "Excellent command of English; German language skills are an advantage.\n",
            "\n",
            "Exceptional communication and collaboration skills, with the ability to work effectively in a global team environment and engage with external partners.\n",
            "\n",
            "Self-motivated, organized, and capable of managing multiple tasks and priorities effectively.\n"
          ]
        }
      ]
    },
    {
      "cell_type": "code",
      "source": [
        "vectorizer = CountVectorizer()\n",
        "\n",
        "vectorized_text = vectorizer.fit_transform([my_resume, job_requirements])"
      ],
      "metadata": {
        "id": "40-zZDF5ii1P"
      },
      "execution_count": 19,
      "outputs": []
    },
    {
      "cell_type": "code",
      "source": [
        "similarity_matrix = cosine_similarity(vectorized_text)\n",
        "\n",
        "print(similarity_matrix)"
      ],
      "metadata": {
        "colab": {
          "base_uri": "https://localhost:8080/"
        },
        "collapsed": true,
        "id": "w-oHcP03i5HR",
        "outputId": "4eed1068-1740-4b09-82c7-ba6b95413dcf"
      },
      "execution_count": 20,
      "outputs": [
        {
          "output_type": "stream",
          "name": "stdout",
          "text": [
            "[[1.         0.36818533]\n",
            " [0.36818533 1.        ]]\n"
          ]
        }
      ]
    },
    {
      "cell_type": "code",
      "source": [
        "job_match = similarity_matrix[1][0] * 100\n",
        "job_match = round(job_match, 2)\n",
        "\n",
        "print('The Match Percentage is: ' + str(job_match) + '%')"
      ],
      "metadata": {
        "colab": {
          "base_uri": "https://localhost:8080/"
        },
        "collapsed": true,
        "id": "fuOon60OjGOC",
        "outputId": "f493466f-9d26-41de-eca4-fa01ed352f83"
      },
      "execution_count": 21,
      "outputs": [
        {
          "output_type": "stream",
          "name": "stdout",
          "text": [
            "The Match Percentage is: 36.82%\n"
          ]
        }
      ]
    },
    {
      "cell_type": "code",
      "source": [
        "!pip install spacy\n",
        "\n",
        "import spacy"
      ],
      "metadata": {
        "colab": {
          "base_uri": "https://localhost:8080/"
        },
        "collapsed": true,
        "id": "m5rliDoHrzE0",
        "outputId": "10178d15-9438-4481-ead5-7022b40c0bcf"
      },
      "execution_count": 27,
      "outputs": [
        {
          "output_type": "stream",
          "name": "stdout",
          "text": [
            "Requirement already satisfied: spacy in /usr/local/lib/python3.11/dist-packages (3.6.1)\n",
            "Requirement already satisfied: spacy-legacy<3.1.0,>=3.0.11 in /usr/local/lib/python3.11/dist-packages (from spacy) (3.0.12)\n",
            "Requirement already satisfied: spacy-loggers<2.0.0,>=1.0.0 in /usr/local/lib/python3.11/dist-packages (from spacy) (1.0.5)\n",
            "Requirement already satisfied: murmurhash<1.1.0,>=0.28.0 in /usr/local/lib/python3.11/dist-packages (from spacy) (1.0.12)\n",
            "Requirement already satisfied: cymem<2.1.0,>=2.0.2 in /usr/local/lib/python3.11/dist-packages (from spacy) (2.0.11)\n",
            "Requirement already satisfied: preshed<3.1.0,>=3.0.2 in /usr/local/lib/python3.11/dist-packages (from spacy) (3.0.9)\n",
            "Requirement already satisfied: thinc<8.2.0,>=8.1.8 in /usr/local/lib/python3.11/dist-packages (from spacy) (8.1.12)\n",
            "Requirement already satisfied: wasabi<1.2.0,>=0.9.1 in /usr/local/lib/python3.11/dist-packages (from spacy) (1.1.3)\n",
            "Requirement already satisfied: srsly<3.0.0,>=2.4.3 in /usr/local/lib/python3.11/dist-packages (from spacy) (2.5.1)\n",
            "Requirement already satisfied: catalogue<2.1.0,>=2.0.6 in /usr/local/lib/python3.11/dist-packages (from spacy) (2.0.10)\n",
            "Requirement already satisfied: typer<0.10.0,>=0.3.0 in /usr/local/lib/python3.11/dist-packages (from spacy) (0.9.4)\n",
            "Requirement already satisfied: pathy>=0.10.0 in /usr/local/lib/python3.11/dist-packages (from spacy) (0.11.0)\n",
            "Requirement already satisfied: smart-open<7.0.0,>=5.2.1 in /usr/local/lib/python3.11/dist-packages (from spacy) (6.4.0)\n",
            "Requirement already satisfied: tqdm<5.0.0,>=4.38.0 in /usr/local/lib/python3.11/dist-packages (from spacy) (4.67.1)\n",
            "Requirement already satisfied: numpy>=1.15.0 in /usr/local/lib/python3.11/dist-packages (from spacy) (1.26.4)\n",
            "Requirement already satisfied: requests<3.0.0,>=2.13.0 in /usr/local/lib/python3.11/dist-packages (from spacy) (2.32.3)\n",
            "Requirement already satisfied: pydantic!=1.8,!=1.8.1,<3.0.0,>=1.7.4 in /usr/local/lib/python3.11/dist-packages (from spacy) (1.10.21)\n",
            "Requirement already satisfied: jinja2 in /usr/local/lib/python3.11/dist-packages (from spacy) (3.1.5)\n",
            "Requirement already satisfied: setuptools in /usr/local/lib/python3.11/dist-packages (from spacy) (75.1.0)\n",
            "Requirement already satisfied: packaging>=20.0 in /usr/local/lib/python3.11/dist-packages (from spacy) (24.2)\n",
            "Requirement already satisfied: langcodes<4.0.0,>=3.2.0 in /usr/local/lib/python3.11/dist-packages (from spacy) (3.5.0)\n",
            "Requirement already satisfied: language-data>=1.2 in /usr/local/lib/python3.11/dist-packages (from langcodes<4.0.0,>=3.2.0->spacy) (1.3.0)\n",
            "Requirement already satisfied: pathlib-abc==0.1.1 in /usr/local/lib/python3.11/dist-packages (from pathy>=0.10.0->spacy) (0.1.1)\n",
            "Requirement already satisfied: typing-extensions>=4.2.0 in /usr/local/lib/python3.11/dist-packages (from pydantic!=1.8,!=1.8.1,<3.0.0,>=1.7.4->spacy) (4.12.2)\n",
            "Requirement already satisfied: charset-normalizer<4,>=2 in /usr/local/lib/python3.11/dist-packages (from requests<3.0.0,>=2.13.0->spacy) (3.4.1)\n",
            "Requirement already satisfied: idna<4,>=2.5 in /usr/local/lib/python3.11/dist-packages (from requests<3.0.0,>=2.13.0->spacy) (3.10)\n",
            "Requirement already satisfied: urllib3<3,>=1.21.1 in /usr/local/lib/python3.11/dist-packages (from requests<3.0.0,>=2.13.0->spacy) (2.3.0)\n",
            "Requirement already satisfied: certifi>=2017.4.17 in /usr/local/lib/python3.11/dist-packages (from requests<3.0.0,>=2.13.0->spacy) (2024.12.14)\n",
            "Requirement already satisfied: blis<0.8.0,>=0.7.8 in /usr/local/lib/python3.11/dist-packages (from thinc<8.2.0,>=8.1.8->spacy) (0.7.11)\n",
            "Requirement already satisfied: confection<1.0.0,>=0.0.1 in /usr/local/lib/python3.11/dist-packages (from thinc<8.2.0,>=8.1.8->spacy) (0.1.5)\n",
            "Requirement already satisfied: click<9.0.0,>=7.1.1 in /usr/local/lib/python3.11/dist-packages (from typer<0.10.0,>=0.3.0->spacy) (8.1.8)\n",
            "Requirement already satisfied: MarkupSafe>=2.0 in /usr/local/lib/python3.11/dist-packages (from jinja2->spacy) (3.0.2)\n",
            "Requirement already satisfied: marisa-trie>=1.1.0 in /usr/local/lib/python3.11/dist-packages (from language-data>=1.2->langcodes<4.0.0,>=3.2.0->spacy) (1.2.1)\n"
          ]
        }
      ]
    },
    {
      "cell_type": "code",
      "source": [
        "nlp = spacy.load(\"en_core_web_sm\")"
      ],
      "metadata": {
        "id": "_dDDP9I7sITW"
      },
      "execution_count": 28,
      "outputs": []
    },
    {
      "cell_type": "code",
      "source": [
        "doc = nlp(job_requirements)"
      ],
      "metadata": {
        "id": "cnz07_GPsKkY"
      },
      "execution_count": 29,
      "outputs": []
    },
    {
      "cell_type": "code",
      "source": [
        "skills = []\n",
        "for token in doc:\n",
        "  if token.pos_ in (\"NOUN\", \"PROPN\"):\n",
        "    skills.append(token.text)"
      ],
      "metadata": {
        "id": "Gbk5NWiysMb_"
      },
      "execution_count": 30,
      "outputs": []
    },
    {
      "cell_type": "code",
      "source": [
        "print(\"Extracted Skills:\", skills)"
      ],
      "metadata": {
        "colab": {
          "base_uri": "https://localhost:8080/"
        },
        "collapsed": true,
        "id": "xoiX2hTCsOxt",
        "outputId": "d0d95173-8369-483d-d234-0c696dd39d82"
      },
      "execution_count": 31,
      "outputs": [
        {
          "output_type": "stream",
          "name": "stdout",
          "text": [
            "Extracted Skills: ['Qualifications', 'Authorization', 'Germany', 'EU', 'Master', 'PhD', 'computer', 'science', 'data', 'science', 'engineering', 'mathematics', 'field', 'years', 'experience', 'machine', 'learning', 'techniques', 'experience', 'Language', 'Models', 'world', 'projects', 'Expertise', 'machine', 'learning', 'intelligence', 'language', 'processing', 'track', 'record', 'LLMs', 'GPT', 'BERT', 'models', 'production', 'settings', 'Proficiency', 'programming', 'languages', 'Python', 'C', 'C++', 'experience', 'frameworks', 'PyTorch', 'TensorFlow', 'tools', 'understanding', 'object', 'programming', 'practices', 'version', 'control', 'systems', 'Git', 'Experience', 'cloud', 'platforms', 'AWS', 'Azure', 'GCP', 'scale', 'data', 'processing', 'systems', 'streaming', 'architectures', 'plus', 'command', 'English', 'language', 'skills', 'advantage', 'communication', 'collaboration', 'skills', 'ability', 'team', 'environment', 'partners', 'Self', 'tasks', 'priorities']\n"
          ]
        }
      ]
    }
  ]
}